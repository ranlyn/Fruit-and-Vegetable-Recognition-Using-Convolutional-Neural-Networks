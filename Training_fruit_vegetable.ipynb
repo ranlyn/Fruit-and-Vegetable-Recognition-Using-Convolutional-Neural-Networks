{
  "cells": [
    {
      "cell_type": "markdown",
      "metadata": {
        "id": "view-in-github",
        "colab_type": "text"
      },
      "source": [
        "<a href=\"https://colab.research.google.com/github/ranlyn/Fruit-and-Vegetable-Recognition-Using-Convolutional-Neural-Networks/blob/main/Training_fruit_vegetable.ipynb\" target=\"_parent\"><img src=\"https://colab.research.google.com/assets/colab-badge.svg\" alt=\"Open In Colab\"/></a>"
      ]
    },
    {
      "cell_type": "markdown",
      "metadata": {
        "id": "ozYmBzkYbNl2"
      },
      "source": [
        "#Importing dataset\n",
        "\n",
        "\n"
      ]
    },
    {
      "cell_type": "code",
      "execution_count": null,
      "metadata": {
        "colab": {
          "base_uri": "https://localhost:8080/"
        },
        "id": "8bOYDskzamEl",
        "outputId": "5a5e2133-2707-48e8-81a8-e22fc3256006"
      },
      "outputs": [
        {
          "output_type": "stream",
          "name": "stdout",
          "text": [
            "Drive already mounted at /content/drive; to attempt to forcibly remount, call drive.mount(\"/content/drive\", force_remount=True).\n"
          ]
        }
      ],
      "source": [
        "from google.colab import drive\n",
        "drive.mount('/content/drive')"
      ]
    },
    {
      "cell_type": "markdown",
      "metadata": {
        "id": "i366yIP-3o2k"
      },
      "source": [
        "#Importing libraries\n"
      ]
    },
    {
      "cell_type": "code",
      "execution_count": null,
      "metadata": {
        "id": "wyim5BGxboF5"
      },
      "outputs": [],
      "source": [
        "import numpy as np\n",
        "import tensorflow as tf\n",
        "import matplotlib.pyplot as plt"
      ]
    },
    {
      "cell_type": "markdown",
      "metadata": {
        "id": "bStwThur4BTc"
      },
      "source": [
        "#Data preprocessing"
      ]
    },
    {
      "cell_type": "markdown",
      "metadata": {
        "id": "GvTEV4SG4fMY"
      },
      "source": [
        "###Training image preprocessing"
      ]
    },
    {
      "cell_type": "code",
      "execution_count": null,
      "metadata": {
        "colab": {
          "base_uri": "https://localhost:8080/"
        },
        "id": "aMCx5F_24dx2",
        "outputId": "e4506e48-e9cc-45bf-e27e-6c4ada1f0827"
      },
      "outputs": [
        {
          "output_type": "stream",
          "name": "stdout",
          "text": [
            "Found 3123 files belonging to 36 classes.\n"
          ]
        }
      ],
      "source": [
        "training_set = tf.keras.utils.image_dataset_from_directory(\n",
        "'/content/drive/MyDrive/Fruit and vegetables dataset/train',\n",
        "    labels=\"inferred\",\n",
        "    label_mode=\"categorical\",\n",
        "    class_names=None,\n",
        "    color_mode=\"rgb\",\n",
        "    batch_size=32,\n",
        "    image_size=(64, 64),\n",
        "    shuffle=True,\n",
        "    seed=None,\n",
        "    validation_split=None,\n",
        "    subset=None,\n",
        "    interpolation=\"bilinear\",\n",
        "    follow_links=False,\n",
        "    crop_to_aspect_ratio=False\n",
        ")\n"
      ]
    },
    {
      "cell_type": "markdown",
      "metadata": {
        "id": "yNRNWl2vyPdL"
      },
      "source": [
        "###validation image processing"
      ]
    },
    {
      "cell_type": "code",
      "execution_count": null,
      "metadata": {
        "colab": {
          "base_uri": "https://localhost:8080/"
        },
        "id": "YHv4TEWC3_56",
        "outputId": "4d95288f-2e42-4d1d-cf82-ef749d7f8a7e"
      },
      "outputs": [
        {
          "output_type": "stream",
          "name": "stdout",
          "text": [
            "Found 351 files belonging to 36 classes.\n"
          ]
        }
      ],
      "source": [
        "validation_set = tf.keras.utils.image_dataset_from_directory(\n",
        "    '/content/drive/MyDrive/Fruit and vegetables dataset/validation',\n",
        "    labels=\"inferred\",\n",
        "    label_mode=\"categorical\",\n",
        "    class_names=None,\n",
        "    color_mode=\"rgb\",\n",
        "    batch_size=32,\n",
        "    image_size=(64, 64),\n",
        "    shuffle=True,\n",
        "    seed=None,\n",
        "    validation_split=None,\n",
        "    subset=None,\n",
        "    interpolation=\"bilinear\",\n",
        "    follow_links=False,\n",
        "    crop_to_aspect_ratio=False\n",
        ")\n"
      ]
    },
    {
      "cell_type": "code",
      "execution_count": null,
      "metadata": {
        "id": "DyuLN3RIyw92"
      },
      "outputs": [],
      "source": [
        "cnn=tf.keras.models.Sequential()"
      ]
    },
    {
      "cell_type": "markdown",
      "metadata": {
        "id": "FCaUP4oozs6E"
      },
      "source": [
        "##Building convolution layer"
      ]
    },
    {
      "cell_type": "code",
      "execution_count": null,
      "metadata": {
        "id": "JWNPYuF1zoD9"
      },
      "outputs": [],
      "source": [
        "cnn.add(tf.keras.layers.Conv2D(filters=32,kernel_size=3,padding='same',activation='relu',input_shape=[64,64,3]))\n",
        "cnn.add(tf.keras.layers.Conv2D(filters=32,kernel_size=3,activation='relu'))\n",
        "cnn.add(tf.keras.layers.MaxPool2D(pool_size=2,strides=2))"
      ]
    },
    {
      "cell_type": "code",
      "execution_count": null,
      "metadata": {
        "id": "3XNiSwDPE_1O"
      },
      "outputs": [],
      "source": [
        "cnn.add(tf.keras.layers.Dropout(0.25))\n"
      ]
    },
    {
      "cell_type": "code",
      "execution_count": null,
      "metadata": {
        "id": "unLKWvmY0Wrl"
      },
      "outputs": [],
      "source": [
        "cnn.add(tf.keras.layers.Conv2D(filters=64,kernel_size=3,padding='same',activation='relu'))\n",
        "cnn.add(tf.keras.layers.Conv2D(filters=64,kernel_size=3,activation='relu'))\n",
        "cnn.add(tf.keras.layers.MaxPool2D(pool_size=2,strides=2))"
      ]
    },
    {
      "cell_type": "code",
      "execution_count": null,
      "metadata": {
        "id": "khZXsTJbFHNE"
      },
      "outputs": [],
      "source": [
        "cnn.add(tf.keras.layers.Dropout(0.25))"
      ]
    },
    {
      "cell_type": "code",
      "execution_count": null,
      "metadata": {
        "id": "mls6RshI0oCE"
      },
      "outputs": [],
      "source": [
        "cnn.add(tf.keras.layers.Flatten())"
      ]
    },
    {
      "cell_type": "code",
      "execution_count": null,
      "metadata": {
        "id": "EPwRHLiy0uR0"
      },
      "outputs": [],
      "source": [
        "cnn.add(tf.keras.layers.Dense(units=512,activation='relu'))"
      ]
    },
    {
      "cell_type": "code",
      "execution_count": null,
      "metadata": {
        "id": "GCrr8fxX1CII"
      },
      "outputs": [],
      "source": [
        "cnn.add(tf.keras.layers.Dropout(0.5))"
      ]
    },
    {
      "cell_type": "code",
      "execution_count": null,
      "metadata": {
        "id": "_infuhKl0oAe"
      },
      "outputs": [],
      "source": [
        "cnn.add(tf.keras.layers.Dense(units=256,activation='relu'))"
      ]
    },
    {
      "cell_type": "code",
      "execution_count": null,
      "metadata": {
        "id": "0R8vj9Nd0t3t"
      },
      "outputs": [],
      "source": [
        "cnn.add(tf.keras.layers.Dense(units=36))"
      ]
    },
    {
      "cell_type": "code",
      "execution_count": null,
      "metadata": {
        "id": "1Nj1yWqX05l6"
      },
      "outputs": [],
      "source": [
        "#output layer\n",
        "cnn.add(tf.keras.layers.Dense(units=36,activation='softmax'))"
      ]
    },
    {
      "cell_type": "markdown",
      "metadata": {
        "id": "_LtcAALX1ZHm"
      },
      "source": [
        "#Compiling and training phase"
      ]
    },
    {
      "cell_type": "code",
      "execution_count": null,
      "metadata": {
        "id": "gY-NefSu1WQV"
      },
      "outputs": [],
      "source": [
        "cnn.compile(optimizer='adam',loss='categorical_crossentropy',metrics=['accuracy'])"
      ]
    },
    {
      "cell_type": "code",
      "execution_count": null,
      "metadata": {
        "colab": {
          "base_uri": "https://localhost:8080/"
        },
        "id": "1dPcTkASwaaT",
        "outputId": "e0b9ef6a-6622-470e-ffbd-fd4d9cb6bdd3"
      },
      "outputs": [
        {
          "output_type": "stream",
          "name": "stdout",
          "text": [
            "Model: \"sequential\"\n",
            "_________________________________________________________________\n",
            " Layer (type)                Output Shape              Param #   \n",
            "=================================================================\n",
            " conv2d (Conv2D)             (None, 64, 64, 32)        896       \n",
            "                                                                 \n",
            " conv2d_1 (Conv2D)           (None, 62, 62, 32)        9248      \n",
            "                                                                 \n",
            " max_pooling2d (MaxPooling2  (None, 31, 31, 32)        0         \n",
            " D)                                                              \n",
            "                                                                 \n",
            " dropout (Dropout)           (None, 31, 31, 32)        0         \n",
            "                                                                 \n",
            " conv2d_2 (Conv2D)           (None, 31, 31, 64)        18496     \n",
            "                                                                 \n",
            " conv2d_3 (Conv2D)           (None, 29, 29, 64)        36928     \n",
            "                                                                 \n",
            " max_pooling2d_1 (MaxPoolin  (None, 14, 14, 64)        0         \n",
            " g2D)                                                            \n",
            "                                                                 \n",
            " dropout_1 (Dropout)         (None, 14, 14, 64)        0         \n",
            "                                                                 \n",
            " flatten (Flatten)           (None, 12544)             0         \n",
            "                                                                 \n",
            " dense (Dense)               (None, 512)               6423040   \n",
            "                                                                 \n",
            " dropout_2 (Dropout)         (None, 512)               0         \n",
            "                                                                 \n",
            " dense_1 (Dense)             (None, 256)               131328    \n",
            "                                                                 \n",
            " dense_2 (Dense)             (None, 36)                9252      \n",
            "                                                                 \n",
            " dense_3 (Dense)             (None, 36)                1332      \n",
            "                                                                 \n",
            "=================================================================\n",
            "Total params: 6630520 (25.29 MB)\n",
            "Trainable params: 6630520 (25.29 MB)\n",
            "Non-trainable params: 0 (0.00 Byte)\n",
            "_________________________________________________________________\n"
          ]
        }
      ],
      "source": [
        "cnn.summary()"
      ]
    },
    {
      "cell_type": "code",
      "execution_count": null,
      "metadata": {
        "colab": {
          "base_uri": "https://localhost:8080/"
        },
        "id": "MQTbtL3g15sP",
        "outputId": "b061b397-6050-4bb8-cb84-695a8329c72c"
      },
      "outputs": [
        {
          "output_type": "stream",
          "name": "stdout",
          "text": [
            "Epoch 1/32\n",
            "98/98 [==============================] - 555s 5s/step - loss: 6.2610 - accuracy: 0.0349 - val_loss: 3.5562 - val_accuracy: 0.0427\n",
            "Epoch 2/32\n",
            "98/98 [==============================] - 141s 1s/step - loss: 3.5627 - accuracy: 0.0419 - val_loss: 3.4301 - val_accuracy: 0.0969\n",
            "Epoch 3/32\n",
            "98/98 [==============================] - 131s 1s/step - loss: 3.4115 - accuracy: 0.0826 - val_loss: 3.0066 - val_accuracy: 0.1624\n",
            "Epoch 4/32\n",
            "98/98 [==============================] - 136s 1s/step - loss: 3.1893 - accuracy: 0.1223 - val_loss: 2.9864 - val_accuracy: 0.2991\n",
            "Epoch 5/32\n",
            "98/98 [==============================] - 142s 1s/step - loss: 3.0028 - accuracy: 0.1784 - val_loss: 2.3539 - val_accuracy: 0.4416\n",
            "Epoch 6/32\n",
            "98/98 [==============================] - 141s 1s/step - loss: 2.7558 - accuracy: 0.2280 - val_loss: 2.1438 - val_accuracy: 0.5214\n",
            "Epoch 7/32\n",
            "98/98 [==============================] - 132s 1s/step - loss: 2.5750 - accuracy: 0.2799 - val_loss: 1.5896 - val_accuracy: 0.6638\n",
            "Epoch 8/32\n",
            "98/98 [==============================] - 146s 1s/step - loss: 2.1899 - accuracy: 0.3791 - val_loss: 1.4529 - val_accuracy: 0.6895\n",
            "Epoch 9/32\n",
            "98/98 [==============================] - 141s 1s/step - loss: 1.9157 - accuracy: 0.4569 - val_loss: 0.9865 - val_accuracy: 0.7835\n",
            "Epoch 10/32\n",
            "98/98 [==============================] - 133s 1s/step - loss: 1.7344 - accuracy: 0.5133 - val_loss: 0.9778 - val_accuracy: 0.8091\n",
            "Epoch 11/32\n",
            "98/98 [==============================] - 140s 1s/step - loss: 1.4889 - accuracy: 0.5728 - val_loss: 0.7203 - val_accuracy: 0.8490\n",
            "Epoch 12/32\n",
            "98/98 [==============================] - 147s 1s/step - loss: 1.4414 - accuracy: 0.5927 - val_loss: 0.6072 - val_accuracy: 0.8718\n",
            "Epoch 13/32\n",
            "98/98 [==============================] - 142s 1s/step - loss: 1.2125 - accuracy: 0.6411 - val_loss: 0.5919 - val_accuracy: 0.8746\n",
            "Epoch 14/32\n",
            "98/98 [==============================] - 143s 1s/step - loss: 1.1061 - accuracy: 0.6840 - val_loss: 0.5099 - val_accuracy: 0.8946\n",
            "Epoch 15/32\n",
            "98/98 [==============================] - 146s 1s/step - loss: 1.0002 - accuracy: 0.7099 - val_loss: 0.4623 - val_accuracy: 0.8974\n",
            "Epoch 16/32\n",
            "98/98 [==============================] - 132s 1s/step - loss: 0.8826 - accuracy: 0.7541 - val_loss: 0.4746 - val_accuracy: 0.8917\n",
            "Epoch 17/32\n",
            "98/98 [==============================] - 140s 1s/step - loss: 0.8312 - accuracy: 0.7560 - val_loss: 0.4983 - val_accuracy: 0.8917\n",
            "Epoch 18/32\n",
            "98/98 [==============================] - 141s 1s/step - loss: 0.7883 - accuracy: 0.7730 - val_loss: 0.4290 - val_accuracy: 0.9088\n",
            "Epoch 19/32\n",
            "98/98 [==============================] - 140s 1s/step - loss: 0.6784 - accuracy: 0.7992 - val_loss: 0.4240 - val_accuracy: 0.9060\n",
            "Epoch 20/32\n",
            "98/98 [==============================] - 143s 1s/step - loss: 0.6397 - accuracy: 0.8130 - val_loss: 0.3836 - val_accuracy: 0.9202\n",
            "Epoch 21/32\n",
            "98/98 [==============================] - 131s 1s/step - loss: 0.6482 - accuracy: 0.8056 - val_loss: 0.3865 - val_accuracy: 0.9202\n",
            "Epoch 22/32\n",
            "98/98 [==============================] - 141s 1s/step - loss: 0.6001 - accuracy: 0.8242 - val_loss: 0.4181 - val_accuracy: 0.9145\n",
            "Epoch 23/32\n",
            "98/98 [==============================] - 133s 1s/step - loss: 0.6178 - accuracy: 0.8210 - val_loss: 0.3614 - val_accuracy: 0.9231\n",
            "Epoch 24/32\n",
            "98/98 [==============================] - 140s 1s/step - loss: 0.5998 - accuracy: 0.8264 - val_loss: 0.4361 - val_accuracy: 0.9145\n",
            "Epoch 25/32\n",
            "98/98 [==============================] - 141s 1s/step - loss: 0.5543 - accuracy: 0.8297 - val_loss: 0.4995 - val_accuracy: 0.9259\n",
            "Epoch 26/32\n",
            "98/98 [==============================] - 141s 1s/step - loss: 0.4725 - accuracy: 0.8540 - val_loss: 0.3826 - val_accuracy: 0.9373\n",
            "Epoch 27/32\n",
            "98/98 [==============================] - 140s 1s/step - loss: 0.5062 - accuracy: 0.8463 - val_loss: 0.3690 - val_accuracy: 0.9231\n",
            "Epoch 28/32\n",
            "98/98 [==============================] - 154s 2s/step - loss: 0.5220 - accuracy: 0.8476 - val_loss: 0.4161 - val_accuracy: 0.9288\n",
            "Epoch 29/32\n",
            "98/98 [==============================] - 154s 2s/step - loss: 0.4678 - accuracy: 0.8581 - val_loss: 0.3837 - val_accuracy: 0.9231\n",
            "Epoch 30/32\n",
            "98/98 [==============================] - 167s 2s/step - loss: 0.4198 - accuracy: 0.8742 - val_loss: 0.3464 - val_accuracy: 0.9316\n",
            "Epoch 31/32\n",
            "98/98 [==============================] - 144s 1s/step - loss: 0.4570 - accuracy: 0.8668 - val_loss: 0.3581 - val_accuracy: 0.9316\n",
            "Epoch 32/32\n",
            "98/98 [==============================] - 146s 1s/step - loss: 0.4331 - accuracy: 0.8735 - val_loss: 0.3167 - val_accuracy: 0.9373\n"
          ]
        }
      ],
      "source": [
        "training_history = cnn.fit(x=training_set,validation_data=validation_set,epochs=32)"
      ]
    },
    {
      "cell_type": "markdown",
      "metadata": {
        "id": "J5P7_9GPFqVl"
      },
      "source": [
        "##Evaluating model"
      ]
    },
    {
      "cell_type": "code",
      "execution_count": null,
      "metadata": {
        "colab": {
          "base_uri": "https://localhost:8080/"
        },
        "id": "UGuHt9R_Foud",
        "outputId": "f30cbfc1-b515-4558-85ae-939cb65a79bc"
      },
      "outputs": [
        {
          "output_type": "stream",
          "name": "stdout",
          "text": [
            "98/98 [==============================] - 87s 821ms/step - loss: 0.1125 - accuracy: 0.9721\n",
            "Training accuracy: 0.9721421599388123\n"
          ]
        }
      ],
      "source": [
        "#Training set Accuracy\n",
        "train_loss, train_acc = cnn.evaluate(training_set)\n",
        "print('Training accuracy:', train_acc)"
      ]
    },
    {
      "cell_type": "code",
      "execution_count": null,
      "metadata": {
        "id": "synHtp6VFwbd"
      },
      "outputs": [],
      "source": [
        "#Validation set Accuracy\n",
        "val_loss, val_acc = cnn.evaluate(validation_set)\n",
        "print('Validation accuracy:', val_acc)"
      ]
    },
    {
      "cell_type": "markdown",
      "metadata": {
        "id": "IUD05_7WFzJP"
      },
      "source": [
        "##Saving the model"
      ]
    },
    {
      "cell_type": "code",
      "execution_count": null,
      "metadata": {
        "colab": {
          "base_uri": "https://localhost:8080/"
        },
        "id": "1hY1vDy6B6ax",
        "outputId": "15a678c9-c473-4b55-8e85-e53174dd5b70"
      },
      "outputs": [
        {
          "output_type": "stream",
          "name": "stderr",
          "text": [
            "/usr/local/lib/python3.10/dist-packages/keras/src/engine/training.py:3103: UserWarning: You are saving your model as an HDF5 file via `model.save()`. This file format is considered legacy. We recommend using instead the native Keras format, e.g. `model.save('my_model.keras')`.\n",
            "  saving_api.save_model(\n"
          ]
        }
      ],
      "source": [
        "cnn.save('trained_model.h5')"
      ]
    },
    {
      "cell_type": "code",
      "execution_count": null,
      "metadata": {
        "id": "dkRK1J5N2EcC"
      },
      "outputs": [],
      "source": [
        "training_history.history #returns dictionary of history"
      ]
    },
    {
      "cell_type": "code",
      "execution_count": null,
      "metadata": {
        "id": "AHP8mVMRCjo1"
      },
      "outputs": [],
      "source": [
        "#Recording history in json\n",
        "import json\n",
        "with open('training_hist.json','w') as f:\n",
        "  json.dump(training_history.history,f)"
      ]
    },
    {
      "cell_type": "code",
      "execution_count": null,
      "metadata": {
        "colab": {
          "base_uri": "https://localhost:8080/"
        },
        "id": "pwNyhAfLC4jb",
        "outputId": "be99c246-734c-4d9d-a537-7de371659856"
      },
      "outputs": [
        {
          "output_type": "stream",
          "name": "stdout",
          "text": [
            "dict_keys(['loss', 'accuracy', 'val_loss', 'val_accuracy'])\n"
          ]
        }
      ],
      "source": [
        "print(training_history.history.keys())"
      ]
    },
    {
      "cell_type": "markdown",
      "metadata": {
        "id": "DjszUqXfDJ30"
      },
      "source": [
        "#Calculating accuracy of model achieved on validation set"
      ]
    },
    {
      "cell_type": "code",
      "execution_count": null,
      "metadata": {
        "colab": {
          "base_uri": "https://localhost:8080/"
        },
        "id": "NK-7i6F2DCGd",
        "outputId": "9bdcde67-6b25-4ffc-b37d-9bedababd327"
      },
      "outputs": [
        {
          "metadata": {
            "tags": null
          },
          "name": "stdout",
          "output_type": "stream",
          "text": [
            "validation set accuracy: 93.73219609260559 %\n"
          ]
        }
      ],
      "source": [
        "print(\"validation set accuracy: {} %\".format(training_history.history['val_accuracy'][-1]*100))"
      ]
    },
    {
      "cell_type": "markdown",
      "metadata": {
        "id": "umZPMkauEGWN"
      },
      "source": [
        "#Accuracy visualization"
      ]
    },
    {
      "cell_type": "markdown",
      "metadata": {
        "id": "6bfRCDrYEKSW"
      },
      "source": [
        "##Training visualization"
      ]
    },
    {
      "cell_type": "code",
      "execution_count": null,
      "metadata": {
        "colab": {
          "base_uri": "https://localhost:8080/",
          "height": 472
        },
        "id": "0KN0HRvtDRfx",
        "outputId": "c53387bc-2531-474f-f9be-18d3bf107d70"
      },
      "outputs": [
        {
          "output_type": "display_data",
          "data": {
            "text/plain": [
              "<Figure size 640x480 with 1 Axes>"
            ],
            "image/png": "[encoded data removed]"
          },
          "metadata": {}
        }
      ],
      "source": [
        "epochs = [i for i in range(1,33)]\n",
        "plt.plot(epochs,training_history.history['accuracy'],color='red')\n",
        "plt.xlabel('No. of Epochs')\n",
        "plt.ylabel('Traiining Accuracy')\n",
        "plt.title('Visualization of Training Accuracy Result')\n",
        "plt.show()\n"
      ]
    },
    {
      "cell_type": "markdown",
      "metadata": {
        "id": "kkiR3TAlFBHA"
      },
      "source": [
        "##validation accuracy"
      ]
    },
    {
      "cell_type": "code",
      "execution_count": null,
      "metadata": {
        "colab": {
          "base_uri": "https://localhost:8080/",
          "height": 472
        },
        "id": "fuSgFTFFEUua",
        "outputId": "a858c5f8-02d0-458b-fd87-da4a570e090b"
      },
      "outputs": [
        {
          "output_type": "display_data",
          "data": {
            "text/plain": [
              "<Figure size 640x480 with 1 Axes>"
            ],
            "image/png": "[encoded data removed]"
          },
          "metadata": {}
        }
      ],
      "source": [
        "plt.plot(epochs,training_history.history['val_accuracy'],color='blue')\n",
        "plt.xlabel('No. of Epochs')\n",
        "plt.ylabel('Validation Accuracy')\n",
        "plt.title('Visualization of Validation Accuracy Result')\n",
        "plt.show()"
      ]
    },
    {
      "cell_type": "code",
      "execution_count": null,
      "metadata": {
        "id": "geV7Q2aZFeY-"
      },
      "outputs": [],
      "source": []
    }
  ],
  "metadata": {
    "colab": {
      "provenance": [],
      "mount_file_id": "15HFxXe_J9e7AG94XgniWfscpEcOtIJuO",
      "authorship_tag": "ABX9TyP8suoYScgbDFLjMQBO8sHF",
      "include_colab_link": true
    },
    "kernelspec": {
      "display_name": "Python 3",
      "name": "python3"
    },
    "language_info": {
      "name": "python"
    }
  },
  "nbformat": 4,
  "nbformat_minor": 0
}